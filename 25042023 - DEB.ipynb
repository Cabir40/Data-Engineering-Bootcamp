{
 "cells": [
  {
   "cell_type": "code",
   "execution_count": 2,
   "id": "311f3e23",
   "metadata": {},
   "outputs": [],
   "source": [
    "import numpy as np"
   ]
  },
  {
   "cell_type": "code",
   "execution_count": 3,
   "id": "a4aeeb7b",
   "metadata": {},
   "outputs": [],
   "source": [
    "p7 = np.arange(10, 200, 11)"
   ]
  },
  {
   "cell_type": "code",
   "execution_count": 4,
   "id": "373f96e4",
   "metadata": {},
   "outputs": [],
   "source": [
    "np.savetxt('mydata/1904DEB.csv', p7, delimiter = ',')"
   ]
  },
  {
   "cell_type": "code",
   "execution_count": 5,
   "id": "2a3ae98b",
   "metadata": {},
   "outputs": [],
   "source": [
    "p8 = np.arange(0, 121).reshape(11, 11)"
   ]
  },
  {
   "cell_type": "code",
   "execution_count": 6,
   "id": "e0c4a649",
   "metadata": {},
   "outputs": [
    {
     "data": {
      "text/plain": [
       "array([[  0,   1,   2,   3,   4,   5,   6,   7,   8,   9,  10],\n",
       "       [ 11,  12,  13,  14,  15,  16,  17,  18,  19,  20,  21],\n",
       "       [ 22,  23,  24,  25,  26,  27,  28,  29,  30,  31,  32],\n",
       "       [ 33,  34,  35,  36,  37,  38,  39,  40,  41,  42,  43],\n",
       "       [ 44,  45,  46,  47,  48,  49,  50,  51,  52,  53,  54],\n",
       "       [ 55,  56,  57,  58,  59,  60,  61,  62,  63,  64,  65],\n",
       "       [ 66,  67,  68,  69,  70,  71,  72,  73,  74,  75,  76],\n",
       "       [ 77,  78,  79,  80,  81,  82,  83,  84,  85,  86,  87],\n",
       "       [ 88,  89,  90,  91,  92,  93,  94,  95,  96,  97,  98],\n",
       "       [ 99, 100, 101, 102, 103, 104, 105, 106, 107, 108, 109],\n",
       "       [110, 111, 112, 113, 114, 115, 116, 117, 118, 119, 120]])"
      ]
     },
     "execution_count": 6,
     "metadata": {},
     "output_type": "execute_result"
    }
   ],
   "source": [
    "p8"
   ]
  },
  {
   "cell_type": "code",
   "execution_count": 7,
   "id": "82abc61a",
   "metadata": {},
   "outputs": [],
   "source": [
    "np.save('test2504.npy', p8)"
   ]
  },
  {
   "cell_type": "code",
   "execution_count": 8,
   "id": "50fbf18a",
   "metadata": {},
   "outputs": [
    {
     "data": {
      "text/plain": [
       "array([[  0,   1,   2,   3,   4,   5,   6,   7,   8,   9,  10],\n",
       "       [ 11,  12,  13,  14,  15,  16,  17,  18,  19,  20,  21],\n",
       "       [ 22,  23,  24,  25,  26,  27,  28,  29,  30,  31,  32],\n",
       "       [ 33,  34,  35,  36,  37,  38,  39,  40,  41,  42,  43],\n",
       "       [ 44,  45,  46,  47,  48,  49,  50,  51,  52,  53,  54],\n",
       "       [ 55,  56,  57,  58,  59,  60,  61,  62,  63,  64,  65],\n",
       "       [ 66,  67,  68,  69,  70,  71,  72,  73,  74,  75,  76],\n",
       "       [ 77,  78,  79,  80,  81,  82,  83,  84,  85,  86,  87],\n",
       "       [ 88,  89,  90,  91,  92,  93,  94,  95,  96,  97,  98],\n",
       "       [ 99, 100, 101, 102, 103, 104, 105, 106, 107, 108, 109],\n",
       "       [110, 111, 112, 113, 114, 115, 116, 117, 118, 119, 120]])"
      ]
     },
     "execution_count": 8,
     "metadata": {},
     "output_type": "execute_result"
    }
   ],
   "source": [
    "p9 = np.load('test2504.npy')\n",
    "p9"
   ]
  },
  {
   "cell_type": "code",
   "execution_count": 9,
   "id": "c529193c",
   "metadata": {},
   "outputs": [],
   "source": [
    "np.save('numpyfile2504', p8)"
   ]
  },
  {
   "cell_type": "code",
   "execution_count": 10,
   "id": "2edeafee",
   "metadata": {},
   "outputs": [
    {
     "data": {
      "text/plain": [
       "array([[  0,   1,   2,   3,   4,   5,   6,   7,   8,   9,  10],\n",
       "       [ 11,  12,  13,  14,  15,  16,  17,  18,  19,  20,  21],\n",
       "       [ 22,  23,  24,  25,  26,  27,  28,  29,  30,  31,  32],\n",
       "       [ 33,  34,  35,  36,  37,  38,  39,  40,  41,  42,  43],\n",
       "       [ 44,  45,  46,  47,  48,  49,  50,  51,  52,  53,  54],\n",
       "       [ 55,  56,  57,  58,  59,  60,  61,  62,  63,  64,  65],\n",
       "       [ 66,  67,  68,  69,  70,  71,  72,  73,  74,  75,  76],\n",
       "       [ 77,  78,  79,  80,  81,  82,  83,  84,  85,  86,  87],\n",
       "       [ 88,  89,  90,  91,  92,  93,  94,  95,  96,  97,  98],\n",
       "       [ 99, 100, 101, 102, 103, 104, 105, 106, 107, 108, 109],\n",
       "       [110, 111, 112, 113, 114, 115, 116, 117, 118, 119, 120]])"
      ]
     },
     "execution_count": 10,
     "metadata": {},
     "output_type": "execute_result"
    }
   ],
   "source": [
    "p10 = np.load('numpyfile2504.npy')\n",
    "p10"
   ]
  },
  {
   "cell_type": "code",
   "execution_count": 11,
   "id": "c12ffdee",
   "metadata": {},
   "outputs": [
    {
     "data": {
      "text/plain": [
       "array([[     0,      1,      2, ...,    997,    998,    999],\n",
       "       [  1000,   1001,   1002, ...,   1997,   1998,   1999],\n",
       "       [  2000,   2001,   2002, ...,   2997,   2998,   2999],\n",
       "       ...,\n",
       "       [997000, 997001, 997002, ..., 997997, 997998, 997999],\n",
       "       [998000, 998001, 998002, ..., 998997, 998998, 998999],\n",
       "       [999000, 999001, 999002, ..., 999997, 999998, 999999]])"
      ]
     },
     "execution_count": 11,
     "metadata": {},
     "output_type": "execute_result"
    }
   ],
   "source": [
    "p11 = np.arange(0, 1000000).reshape(1000, 1000)\n",
    "p11"
   ]
  },
  {
   "cell_type": "code",
   "execution_count": 12,
   "id": "ec42190b",
   "metadata": {},
   "outputs": [],
   "source": [
    "np.savez_compressed('mytest2504.npz', p11)"
   ]
  },
  {
   "cell_type": "code",
   "execution_count": 13,
   "id": "50a1bbb8",
   "metadata": {},
   "outputs": [],
   "source": [
    "np.save('mytest2504-1.npy', p11)"
   ]
  },
  {
   "cell_type": "code",
   "execution_count": 14,
   "id": "da4b8726",
   "metadata": {},
   "outputs": [],
   "source": [
    "from IPython.display import Image"
   ]
  },
  {
   "cell_type": "code",
   "execution_count": 15,
   "id": "7fbb404b",
   "metadata": {},
   "outputs": [
    {
     "data": {
      "image/png": "[encoded data removed]",
      "text/plain": [
       "<IPython.core.display.Image object>"
      ]
     },
     "execution_count": 15,
     "metadata": {},
     "output_type": "execute_result"
    }
   ],
   "source": [
    "Image(filename = 'karsilastirma.PNG')"
   ]
  },
  {
   "cell_type": "code",
   "execution_count": 16,
   "id": "ef8ffab5",
   "metadata": {},
   "outputs": [],
   "source": [
    "#printing options"
   ]
  },
  {
   "cell_type": "code",
   "execution_count": 17,
   "id": "d97193dd",
   "metadata": {},
   "outputs": [
    {
     "data": {
      "text/plain": [
       "array([12.6544, 90.7864])"
      ]
     },
     "execution_count": 17,
     "metadata": {},
     "output_type": "execute_result"
    }
   ],
   "source": [
    "np.set_printoptions(precision = 4)\n",
    "a = np.array([12.654398765, 90.7864098354674])\n",
    "a"
   ]
  },
  {
   "cell_type": "code",
   "execution_count": 18,
   "id": "299df070",
   "metadata": {},
   "outputs": [
    {
     "data": {
      "text/plain": [
       "array([12.65, 90.79])"
      ]
     },
     "execution_count": 18,
     "metadata": {},
     "output_type": "execute_result"
    }
   ],
   "source": [
    "np.set_printoptions(precision = 2)\n",
    "a = np.array([12.654398765, 90.7864098354674])\n",
    "a"
   ]
  },
  {
   "cell_type": "code",
   "execution_count": 19,
   "id": "ccec6685",
   "metadata": {},
   "outputs": [
    {
     "data": {
      "text/plain": [
       "array([13., 91.])"
      ]
     },
     "execution_count": 19,
     "metadata": {},
     "output_type": "execute_result"
    }
   ],
   "source": [
    "np.set_printoptions(precision = 0)\n",
    "a = np.array([12.654398765, 90.7864098354674])\n",
    "a"
   ]
  },
  {
   "cell_type": "code",
   "execution_count": 22,
   "id": "92078b13",
   "metadata": {},
   "outputs": [
    {
     "data": {
      "text/plain": [
       "array([  0,   1,   2, ..., 197, 198, 199])"
      ]
     },
     "execution_count": 22,
     "metadata": {},
     "output_type": "execute_result"
    }
   ],
   "source": [
    "np.set_printoptions(threshold = 10)\n",
    "np.arange(200)"
   ]
  },
  {
   "cell_type": "code",
   "execution_count": 23,
   "id": "709ecd91",
   "metadata": {},
   "outputs": [
    {
     "data": {
      "text/plain": [
       "array([12.65439876, 90.78640984])"
      ]
     },
     "execution_count": 23,
     "metadata": {},
     "output_type": "execute_result"
    }
   ],
   "source": [
    "np.set_printoptions(precision = 8, suppress = False, threshold = 1000, formatter = None)\n",
    "a = np.array([12.654398765, 90.7864098354674])\n",
    "a"
   ]
  },
  {
   "cell_type": "code",
   "execution_count": 24,
   "id": "641b0b8b",
   "metadata": {},
   "outputs": [
    {
     "name": "stdout",
     "output_type": "stream",
     "text": [
      "[20 42 72]\n"
     ]
    }
   ],
   "source": [
    "a1 = [5, 6, 8]\n",
    "a2 = [4, 7, 9]\n",
    "print(np.multiply(a1, a2))"
   ]
  },
  {
   "cell_type": "code",
   "execution_count": 27,
   "id": "7a5cd367",
   "metadata": {},
   "outputs": [
    {
     "name": "stdout",
     "output_type": "stream",
     "text": [
      "Dot product -  134\n",
      "Dot product using np.dot -  134\n",
      "Dot product using np.inner -  134\n",
      "Dot product using np.multiply & sum -  134\n",
      "Dot product using np.matmul -  134\n",
      "Dot product using for loop -  134\n"
     ]
    }
   ],
   "source": [
    "a1 = np.array([5, 6, 8])\n",
    "a2 = np.array([4, 7, 9])\n",
    "\n",
    "#Dot product\n",
    "dotp = a1@a2\n",
    "print(\"Dot product - \", dotp)\n",
    "\n",
    "dotp = np.dot(a1, a2)\n",
    "print(\"Dot product using np.dot - \", dotp)\n",
    "\n",
    "dotp = np.inner(a1, a2)\n",
    "print(\"Dot product using np.inner - \", dotp)\n",
    "\n",
    "dotp = sum(np.multiply(a1, a2))\n",
    "print(\"Dot product using np.multiply & sum - \", dotp)\n",
    "\n",
    "dotp = np.matmul(a1, a2)\n",
    "print(\"Dot product using np.matmul - \", dotp)\n",
    "\n",
    "dotp = 0\n",
    "for i in range(len(a1)):\n",
    "    dotp = dotp + a1[i]*a2[i]\n",
    "print(\"Dot product using for loop - \", dotp)"
   ]
  },
  {
   "cell_type": "code",
   "execution_count": 28,
   "id": "5b0752b7",
   "metadata": {},
   "outputs": [
    {
     "data": {
      "text/plain": [
       "9.539392014169456"
      ]
     },
     "execution_count": 28,
     "metadata": {},
     "output_type": "execute_result"
    }
   ],
   "source": [
    "v3 = np.array([1,2,3,4,5,6])\n",
    "length = np.sqrt(np.dot(v3, v3))\n",
    "length"
   ]
  },
  {
   "cell_type": "code",
   "execution_count": 29,
   "id": "e484f99f",
   "metadata": {},
   "outputs": [
    {
     "data": {
      "text/plain": [
       "array([0.5547002 , 0.83205029])"
      ]
     },
     "execution_count": 29,
     "metadata": {},
     "output_type": "execute_result"
    }
   ],
   "source": [
    "v1 = [2,3]\n",
    "norm_v1 = v1 / np.linalg.norm(v1)\n",
    "norm_v1"
   ]
  },
  {
   "cell_type": "code",
   "execution_count": 30,
   "id": "97b57e42",
   "metadata": {},
   "outputs": [
    {
     "data": {
      "text/plain": [
       "(3.605551275463989, array([0.5547002 , 0.83205029]))"
      ]
     },
     "execution_count": 30,
     "metadata": {},
     "output_type": "execute_result"
    }
   ],
   "source": [
    "v1 = [2,3]\n",
    "length_v1 = np.sqrt(np.dot(v1,v1))\n",
    "norm_v1 = v1 / length_v1\n",
    "length_v1, norm_v1"
   ]
  },
  {
   "cell_type": "code",
   "execution_count": 31,
   "id": "440809b3",
   "metadata": {},
   "outputs": [],
   "source": [
    "#Matrisler"
   ]
  },
  {
   "cell_type": "code",
   "execution_count": 32,
   "id": "70a2991d",
   "metadata": {},
   "outputs": [
    {
     "data": {
      "text/plain": [
       "array([[805, 768, 403, 305, 725, 540, 179, 230, 984, 325],\n",
       "       [433, 723, 319,  21, 873, 774, 732, 618, 806, 908],\n",
       "       [442, 457, 533, 491,  44, 171,  64, 838,  35, 491],\n",
       "       [832, 455, 586, 443, 159, 810, 423, 110, 796,  89],\n",
       "       [957, 966, 438, 463, 665,   8, 394, 141, 960, 945],\n",
       "       [ 38, 463, 719, 142, 421,  35, 561, 737, 728, 245],\n",
       "       [861,  68, 486, 298, 180, 358, 709, 896, 932, 793],\n",
       "       [494, 869, 472, 267,  37, 950, 168, 303,  41, 577],\n",
       "       [983,  88, 321, 659, 569, 423, 785, 651, 591, 982],\n",
       "       [276,  77, 193, 898, 157, 944, 924, 811, 314, 340]])"
      ]
     },
     "execution_count": 32,
     "metadata": {},
     "output_type": "execute_result"
    }
   ],
   "source": [
    "mat1 = np.random.randint(0, 1000, 100).reshape(10, 10)\n",
    "mat1"
   ]
  },
  {
   "cell_type": "code",
   "execution_count": 33,
   "id": "272bdafc",
   "metadata": {},
   "outputs": [
    {
     "data": {
      "text/plain": [
       "array([805, 768, 725, 540, 984, 723, 873, 774, 732, 618, 806, 908, 533,\n",
       "       838, 832, 586, 810, 796, 957, 966, 665, 960, 945, 719, 561, 737,\n",
       "       728, 861, 709, 896, 932, 793, 869, 950, 577, 983, 659, 569, 785,\n",
       "       651, 591, 982, 898, 944, 924, 811])"
      ]
     },
     "execution_count": 33,
     "metadata": {},
     "output_type": "execute_result"
    }
   ],
   "source": [
    "mat1[mat1 > 500]"
   ]
  },
  {
   "cell_type": "code",
   "execution_count": 34,
   "id": "abb62282",
   "metadata": {},
   "outputs": [
    {
     "data": {
      "text/plain": [
       "array([[1., 0., 0., 0., 0., 0., 0., 0., 0.],\n",
       "       [0., 1., 0., 0., 0., 0., 0., 0., 0.],\n",
       "       [0., 0., 1., 0., 0., 0., 0., 0., 0.],\n",
       "       [0., 0., 0., 1., 0., 0., 0., 0., 0.],\n",
       "       [0., 0., 0., 0., 1., 0., 0., 0., 0.],\n",
       "       [0., 0., 0., 0., 0., 1., 0., 0., 0.],\n",
       "       [0., 0., 0., 0., 0., 0., 1., 0., 0.],\n",
       "       [0., 0., 0., 0., 0., 0., 0., 1., 0.],\n",
       "       [0., 0., 0., 0., 0., 0., 0., 0., 1.]])"
      ]
     },
     "execution_count": 34,
     "metadata": {},
     "output_type": "execute_result"
    }
   ],
   "source": [
    "I = np.eye(9)\n",
    "I"
   ]
  },
  {
   "cell_type": "code",
   "execution_count": 35,
   "id": "deec1e09",
   "metadata": {},
   "outputs": [
    {
     "data": {
      "text/plain": [
       "array([[1, 0, 0, 0, 0, 0, 0, 0],\n",
       "       [0, 2, 0, 0, 0, 0, 0, 0],\n",
       "       [0, 0, 3, 0, 0, 0, 0, 0],\n",
       "       [0, 0, 0, 4, 0, 0, 0, 0],\n",
       "       [0, 0, 0, 0, 5, 0, 0, 0],\n",
       "       [0, 0, 0, 0, 0, 6, 0, 0],\n",
       "       [0, 0, 0, 0, 0, 0, 7, 0],\n",
       "       [0, 0, 0, 0, 0, 0, 0, 8]])"
      ]
     },
     "execution_count": 35,
     "metadata": {},
     "output_type": "execute_result"
    }
   ],
   "source": [
    "D = np.diag([1,2,3,4,5,6,7,8])\n",
    "D"
   ]
  },
  {
   "cell_type": "code",
   "execution_count": 36,
   "id": "83769873",
   "metadata": {},
   "outputs": [
    {
     "name": "stdout",
     "output_type": "stream",
     "text": [
      "[[ 1.68035435  0.80688763  0.40287747  1.6854456  -1.32882951]\n",
      " [ 0.84596645 -1.65468951  0.00817708  3.19750108 -1.22710021]\n",
      " [-0.77196501  0.15724556  0.99325008 -0.23573474 -0.33010289]\n",
      " [ 1.40566255 -1.8546334  -0.19371157 -1.05308007 -1.92281742]\n",
      " [-2.09141583  0.2703231  -0.47696008 -1.30183295 -1.01514764]]\n"
     ]
    }
   ],
   "source": [
    "M = np.random.randn(5, 5)\n",
    "print(M) #mean = 0, variance = 1"
   ]
  },
  {
   "cell_type": "code",
   "execution_count": 38,
   "id": "f803591e",
   "metadata": {},
   "outputs": [
    {
     "name": "stdout",
     "output_type": "stream",
     "text": [
      "[[ 1.68035435  0.80688763  0.40287747  1.6854456  -1.32882951]\n",
      " [ 0.         -1.65468951  0.00817708  3.19750108 -1.22710021]\n",
      " [ 0.          0.          0.99325008 -0.23573474 -0.33010289]\n",
      " [ 0.          0.          0.         -1.05308007 -1.92281742]\n",
      " [ 0.          0.          0.          0.         -1.01514764]]\n",
      "\n",
      "\n",
      "[[ 1.68035435  0.          0.          0.          0.        ]\n",
      " [ 0.84596645 -1.65468951  0.          0.          0.        ]\n",
      " [-0.77196501  0.15724556  0.99325008  0.          0.        ]\n",
      " [ 1.40566255 -1.8546334  -0.19371157 -1.05308007  0.        ]\n",
      " [-2.09141583  0.2703231  -0.47696008 -1.30183295 -1.01514764]]\n"
     ]
    }
   ],
   "source": [
    "U = np.triu(M)\n",
    "L = np.tril(M)\n",
    "print(U)\n",
    "print('\\n')\n",
    "print(L)"
   ]
  },
  {
   "cell_type": "code",
   "execution_count": 39,
   "id": "9d9c0b6b",
   "metadata": {},
   "outputs": [
    {
     "data": {
      "text/plain": [
       "array([[8, 8, 8, 8, 8],\n",
       "       [8, 8, 8, 8, 8],\n",
       "       [8, 8, 8, 8, 8],\n",
       "       [8, 8, 8, 8, 8],\n",
       "       [8, 8, 8, 8, 8]])"
      ]
     },
     "execution_count": 39,
     "metadata": {},
     "output_type": "execute_result"
    }
   ],
   "source": [
    "np.full((5,5), 8)"
   ]
  },
  {
   "cell_type": "code",
   "execution_count": 40,
   "id": "42bf2701",
   "metadata": {},
   "outputs": [
    {
     "data": {
      "text/plain": [
       "array([[17.32618265, 15.23235106, 13.93764801, 14.99742616, 17.67296604],\n",
       "       [18.42662307, 14.39780883, 12.88474242, 16.76242604, 17.03254757],\n",
       "       [12.73783671, 11.1772208 , 11.40142099, 15.55447744, 16.50116265],\n",
       "       [19.4232284 , 17.93541716, 11.25968528, 15.97049384, 17.20164701],\n",
       "       [19.91417029, 12.71935513, 17.96887011, 18.39930945, 13.90331467]])"
      ]
     },
     "execution_count": 40,
     "metadata": {},
     "output_type": "execute_result"
    }
   ],
   "source": [
    "np.random.uniform(10, 20, size = (5,5))"
   ]
  },
  {
   "cell_type": "code",
   "execution_count": 67,
   "id": "d62f900b",
   "metadata": {},
   "outputs": [
    {
     "data": {
      "text/plain": [
       "array([[13, 16, 11, 16, 19],\n",
       "       [14, 12, 15, 18, 17],\n",
       "       [11, 19, 12, 17, 18],\n",
       "       [19, 10, 10, 17, 19],\n",
       "       [16, 18, 17, 12, 16]])"
      ]
     },
     "execution_count": 67,
     "metadata": {},
     "output_type": "execute_result"
    }
   ],
   "source": [
    "B = np.random.uniform(10, 20, size = (5,5))\n",
    "my = B.astype(int)\n",
    "my"
   ]
  },
  {
   "cell_type": "code",
   "execution_count": 66,
   "id": "9ec23679",
   "metadata": {},
   "outputs": [
    {
     "data": {
      "text/plain": [
       "numpy.ndarray"
      ]
     },
     "execution_count": 66,
     "metadata": {},
     "output_type": "execute_result"
    }
   ],
   "source": [
    "type(my)"
   ]
  },
  {
   "cell_type": "code",
   "execution_count": 47,
   "id": "fdc82c04",
   "metadata": {},
   "outputs": [
    {
     "data": {
      "text/plain": [
       "array([[ 1,  2,  3,  4],\n",
       "       [ 5,  6,  7,  8],\n",
       "       [10, 11, 12, 13],\n",
       "       [14, 15, 16, 17]])"
      ]
     },
     "execution_count": 47,
     "metadata": {},
     "output_type": "execute_result"
    }
   ],
   "source": [
    "A = np.array([[1,2,3,4], [5,6,7,8], [10,11,12,13], [14,15,16,17]])\n",
    "A"
   ]
  },
  {
   "cell_type": "code",
   "execution_count": 48,
   "id": "131fca35",
   "metadata": {},
   "outputs": [
    {
     "data": {
      "text/plain": [
       "array([ 1,  2,  3,  4,  5,  6,  7,  8, 10, 11, 12, 13, 14, 15, 16, 17])"
      ]
     },
     "execution_count": 48,
     "metadata": {},
     "output_type": "execute_result"
    }
   ],
   "source": [
    "A.flatten()"
   ]
  },
  {
   "cell_type": "code",
   "execution_count": 49,
   "id": "55e11d79",
   "metadata": {},
   "outputs": [
    {
     "data": {
      "text/plain": [
       "array([ 1,  2,  3,  4,  5,  6,  7,  8, 10, 11, 12, 13, 14, 15, 16, 17])"
      ]
     },
     "execution_count": 49,
     "metadata": {},
     "output_type": "execute_result"
    }
   ],
   "source": [
    "A.ravel()"
   ]
  },
  {
   "cell_type": "code",
   "execution_count": 68,
   "id": "4a854506",
   "metadata": {},
   "outputs": [
    {
     "data": {
      "text/plain": [
       "array([13, 16, 11, 16, 19, 14, 12, 15, 18, 17, 11, 19, 12, 17, 18, 19, 10,\n",
       "       10, 17, 19, 16, 18, 17, 12, 16])"
      ]
     },
     "execution_count": 68,
     "metadata": {},
     "output_type": "execute_result"
    }
   ],
   "source": [
    "my.flatten()"
   ]
  },
  {
   "cell_type": "code",
   "execution_count": 69,
   "id": "842e8c86",
   "metadata": {},
   "outputs": [
    {
     "data": {
      "text/plain": [
       "array([13, 16, 11, 16, 19, 14, 12, 15, 18, 17, 11, 19, 12, 17, 18, 19, 10,\n",
       "       10, 17, 19, 16, 18, 17, 12, 16])"
      ]
     },
     "execution_count": 69,
     "metadata": {},
     "output_type": "execute_result"
    }
   ],
   "source": [
    "my.ravel()"
   ]
  },
  {
   "cell_type": "code",
   "execution_count": 70,
   "id": "0ad41fd7",
   "metadata": {},
   "outputs": [
    {
     "data": {
      "text/plain": [
       "array([[1, 2],\n",
       "       [4, 5]])"
      ]
     },
     "execution_count": 70,
     "metadata": {},
     "output_type": "execute_result"
    }
   ],
   "source": [
    "M1 = np.array([[1,2], [4,5]])\n",
    "M1"
   ]
  },
  {
   "cell_type": "code",
   "execution_count": 71,
   "id": "4274913c",
   "metadata": {},
   "outputs": [
    {
     "data": {
      "text/plain": [
       "array([[ 57,  78],\n",
       "       [156, 213]])"
      ]
     },
     "execution_count": 71,
     "metadata": {},
     "output_type": "execute_result"
    }
   ],
   "source": [
    "M1@M1@M1"
   ]
  },
  {
   "cell_type": "code",
   "execution_count": 72,
   "id": "d8a968af",
   "metadata": {},
   "outputs": [
    {
     "data": {
      "text/plain": [
       "array([[ 57,  78],\n",
       "       [156, 213]])"
      ]
     },
     "execution_count": 72,
     "metadata": {},
     "output_type": "execute_result"
    }
   ],
   "source": [
    "np.linalg.matrix_power(M1, 3)"
   ]
  },
  {
   "cell_type": "code",
   "execution_count": null,
   "id": "0a581ea3",
   "metadata": {},
   "outputs": [],
   "source": [
    "#Tensor"
   ]
  }
 ],
 "metadata": {
  "kernelspec": {
   "display_name": "Python 3",
   "language": "python",
   "name": "python3"
  },
  "language_info": {
   "codemirror_mode": {
    "name": "ipython",
    "version": 3
   },
   "file_extension": ".py",
   "mimetype": "text/x-python",
   "name": "python",
   "nbconvert_exporter": "python",
   "pygments_lexer": "ipython3",
   "version": "3.8.8"
  }
 },
 "nbformat": 4,
 "nbformat_minor": 5
}
